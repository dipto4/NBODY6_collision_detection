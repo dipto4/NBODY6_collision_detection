{
 "cells": [
  {
   "cell_type": "markdown",
   "metadata": {},
   "source": [
    "# NB6 Status"
   ]
  },
  {
   "cell_type": "markdown",
   "metadata": {},
   "source": [
    "## Import"
   ]
  },
  {
   "cell_type": "code",
   "execution_count": null,
   "metadata": {
    "collapsed": false
   },
   "outputs": [],
   "source": [
    "import numpy as np\n",
    "import collections\n",
    "import matplotlib.pyplot as plt\n",
    "%matplotlib inline\n",
    "\n",
    "import matplotlib.lines as mlines"
   ]
  },
  {
   "cell_type": "markdown",
   "metadata": {},
   "source": [
    "## File path"
   ]
  },
  {
   "cell_type": "code",
   "execution_count": null,
   "metadata": {
    "collapsed": false
   },
   "outputs": [],
   "source": [
    "filepath=\"../../data/Nbody/debug/16kb/status.36\"\n",
    "fse=True"
   ]
  },
  {
   "cell_type": "markdown",
   "metadata": {},
   "source": [
    "## Functions"
   ]
  },
  {
   "cell_type": "code",
   "execution_count": null,
   "metadata": {
    "collapsed": true
   },
   "outputs": [],
   "source": [
    "def dict_tree(names,data):\n",
    "    if (len(names)>1):\n",
    "        nk = len(names[0])\n",
    "        if (len(data.shape) < 2): raise Exception(\"Input data is not two-dimensional array.\")\n",
    "        if (data.shape[0]%nk > 0): \n",
    "            raise Exception(\"Input data columns size %i and names size %i unmatched\" %(data.shape[0],nk))\n",
    "        ncols = data.shape[0]/nk\n",
    "        dtemp = collections.OrderedDict() \n",
    "        for i in range(nk): dtemp[names[0][i]]=dict_tree(names[1:],data[i*ncols:(i+1)*ncols])\n",
    "        return dtemp\n",
    "    else:\n",
    "        nk = len(names[0])\n",
    "        if (nk!=data.shape[0]): raise Exception(\"The inner most name size %i and data columns %i unmatched\" %(nk,data[0].size))\n",
    "        dtemp = collections.OrderedDict() \n",
    "        for i in range(nk): dtemp[names[0][i]]=data[i] \n",
    "        return dtemp"
   ]
  },
  {
   "cell_type": "code",
   "execution_count": null,
   "metadata": {
    "collapsed": false
   },
   "outputs": [],
   "source": [
    "def status(path,seflag):\n",
    "    data = np.transpose(np.loadtxt(path))\n",
    "    dtemp = collections.OrderedDict()\n",
    "\n",
    "    ifoff = 16\n",
    "    dtemp['t']    = dict_tree((('NB','Myr'),),data[0:2].astype('f'))    # Time in NB unit and Myr\n",
    "    dtemp['tcr']  = data[2].astype('f')                                 # crossing time in Myr\n",
    "    dtemp['trh']  = data[3].astype('f')                                 # half-mass relaxation time in Myr\n",
    "    dtemp['mass'] = dict_tree((('T','S','B'),),data[4:7].astype('f'))   # total, single, binary mass in M_sun\n",
    "    dtemp['q']    = data[7].astype('f')                                 # Virial ration\n",
    "    dtemp['rh']   = data[8].astype('f')                                 # half-mass radius in pc\n",
    "    dtemp['rt']   = data[9].astype('f')                                 # tidal radius in pc\n",
    "    dtemp['rden'] = dict_tree((('x','y','z'),),data[10:13].astype('f')) # Density center position\n",
    "    dtemp['rhod'] = data[13].astype('f')                                # Density weighted average density ΣRHO2/ΣRHO \n",
    "    dtemp['rhom'] = data[14].astype('f')                                # Maximum mass density / half mass mean value\n",
    "    dtemp['mmax'] = data[15].astype('f')                                # Maxium stellar mass\n",
    "\n",
    "    ieoff = 12 + ifoff\n",
    "    dtemp['energy'] = dict_tree( (('Etot','Ekin','Epot','Ebin','Etid','Em','Ecol','Ece','Ekick','Eesc','Ebesc','Emesc'),), \n",
    "                                data[ifoff:ieoff].astype('f') )         # Energy parameters\n",
    "    \n",
    "    inoff = 5 + ieoff\n",
    "    # Number of stars Total(resolved),Single,Binary,Triple,Total(unresolved)\n",
    "    dtemp['n']    = dict_tree((('T','S','B','M','Tu'),), data[ieoff:inoff].astype('i'))     \n",
    "    \n",
    "    iloff = 486 + inoff\n",
    "    ffrac=('0.1%','1%','10%','30%','50%','70%','90%','100%','Rc')\n",
    "    ffracn=('0.1%','1%','10%','30%','50%','70%','90%','100%')\n",
    "    lpars=('r','n','m','v','vx','vy','vz','vr','vt','vrot','s','sx','sy','sz','sr','st','srot','e')\n",
    "    # Lagrangian radii (total, single, binary) \n",
    "    dtemp['lagr'] = dict_tree( (('T','S','B'),lpars,ffrac), data[inoff:iloff].astype('f') )         \n",
    "    \n",
    "    ibfoff = 16 + iloff\n",
    "    # binary mass in global lagr\n",
    "    dtemp['binary'] = dict_tree( (('m',),ffracn), data[iloff:iloff+8].astype('f') )\n",
    "    # binary number in global lagr\n",
    "    dtemp['binary'].update(dict_tree( (('n',),ffracn), data[iloff+8:ibfoff].astype('i')) )     \n",
    "\n",
    "    ipbfoff = 18 + ibfoff\n",
    "    # primordinary binary mass in global lagr\n",
    "    dtemp['pbinary'] = dict_tree( (('m',),ffrac), data[ibfoff:ibfoff+9].astype('f') )\n",
    "    # primordinary binary number in global lagr\n",
    "    dtemp['pbinary'].update(dict_tree( (('n',),ffrac), data[ibfoff+9:ipbfoff].astype('i')) )\n",
    "\n",
    "    iebfoff = 17 + ipbfoff\n",
    "    # binary binding energy in global lagr (negative)\n",
    "    dtemp['binary'].update(dict_tree( (('Ebin',),ffrac), data[ipbfoff:ipbfoff+9].astype('f') ))  \n",
    "    # binary binding energy in binary lagr (negative)\n",
    "    dtemp['binary'].update(dict_tree( (('Ebinb',),ffracn), data[ipbfoff+9:iebfoff].astype('f') ))\n",
    "\n",
    "    iepbfoff = 17 + iebfoff\n",
    "    # binary binding energy in global lagr (negative)\n",
    "    dtemp['pbinary'].update(dict_tree( (('Ebin',),ffrac), data[iebfoff:iebfoff+9].astype('f') ))\n",
    "    # binary binding energy in binary lagr (negative)\n",
    "    dtemp['pbinary'].update(dict_tree( (('Ebinb',),ffracn), data[iebfoff+9:iepbfoff].astype('f') ))\n",
    "                                     \n",
    "    iaoff = 27 + iepbfoff\n",
    "    # Angular momentum in global lagr\n",
    "    dtemp['A'] = dict_tree( (('x','y','z'),ffrac), data[iepbfoff:iaoff].astype('f') )\n",
    "\n",
    "    if (seflag):\n",
    "        isfoff = 58 + iaoff\n",
    "        # stellar mass loss\n",
    "        dtemp['mass'].update(dict_tree( (('SE',),('dM',)), data[iaoff:iaoff+1].astype('f') ))            \n",
    "        # New stellar mass (red giant, helium star, red supergiant, naked helium star, white dwarf, neutron star)\n",
    "        dtemp['mass']['SE'].update(dict_tree( (('New',),('RG','He','RSG','NHe','WD','SN')), data[iaoff+1:iaoff+7].astype('f') ))  \n",
    "        # Current stellar mass from KZ type -1 to 15\n",
    "        dtemp['mass']['SE'].update(dict_tree( (('Current',),\n",
    "                                               ('PMS','LMS','HMS','HG','RG','CHB','FAGB','SAGB',\n",
    "                                                'HeMS','HeHG','HeGB','HeWD','COWD','ONWD','NS','BH','SNR'),\n",
    "                                               ('S','B','BB')), data[iaoff+7:isfoff].astype('f') ))          \n",
    "\n",
    "        isnoff = 72 + isfoff\n",
    "        # event counts\n",
    "        #  1. NDISS: Tidal dissipation at pericenter (#27 >0)\n",
    "        #  2. NTIDE: Tidal captures (#27 >0)\n",
    "        #  3. NSYNC: Synchronous binaries (#27 >0)\n",
    "        #  4. NCOLL: stellar collision\n",
    "        #  5. NCOAL: stellar coalescence\n",
    "        #  6. NCIRC: circularized binaries (#27 >0)\n",
    "        #  7. NROCHE: Roche stage triggered times\n",
    "        #  8. NRO: Roche binary events\n",
    "        #  9. NCE: Common envelope binaries\n",
    "        # 10. NHYP: Hyperbolic collision\n",
    "        # 11. NHYPC: Hyperbolic common envelope binaries\n",
    "        # 12. NKICK: WD/NS/BH kick\n",
    "        # 13. NMDOT: Stellar mass loss event\n",
    "        dtemp['n'].update(dict_tree( (('SE',),('Events',),('Diss','Tid','Syn','Coll','Coal','Circ',\n",
    "                                                           'Roche','RoBin','CE','Hcoll','HCE','Kick','dM')), \n",
    "                                    data[isfoff:isfoff+13].astype('i') ))\n",
    "        # New stellar types\n",
    "        # 14. NRG: New red giants\n",
    "        # 15. NHE: New helium stars\n",
    "        # 16. NRS: New red supergiants\n",
    "        # 17. NNH: New naked helium stars\n",
    "        # 18. NWD: New white dwarfs\n",
    "        # 19. NSN: New neutron stars\n",
    "        # 20. NBH: New black holes\n",
    "        # 21. NBS: New blue stragglers\n",
    "        dtemp['n']['SE'].update(dict_tree( (('New',),('RG','He','RSG','NHe','WD','NS','BH','BS')), \n",
    "                                          data[isfoff+13:isfoff+21].astype('i') ))\n",
    "        # Current stellar number from KZ type -1 to 15\n",
    "        dtemp['n']['SE'].update(dict_tree( (('Current',),\n",
    "                                            ('PMS','LMS','HMS','HG','RG','CHB','FAGB','SAGB',\n",
    "                                             'HeMS','HeHG','HeGB','HeWD','COWD','ONWD','NS','BH','SNR'),\n",
    "                                            ('S','B','BB')), data[isfoff+21:isnoff].astype('i') ))\n",
    "\n",
    "        isloff = 1782 + isnoff\n",
    "        # lagraigan radii parameters for stellar types\n",
    "        # 1.  Low mass main sequence (M < 0.7) (0)\n",
    "        # 2.  High mass main sequence  (1)\n",
    "        # 3.  Hertzsprung gap (HG). (2)\n",
    "        # 4.  Red giant. (3)\n",
    "        # 5.  Core Helium burning. (HB) (4)\n",
    "        # 6.  AGB (5-6)\n",
    "        # 7.  Helium types (7-9)\n",
    "        # 8.  White dwarf (10-12)\n",
    "        # 9.  Neutron star (13)\n",
    "        # 10. Black hole (14)\n",
    "        # 11. Pre main sequence (-1)\n",
    "        dtemp['lagr'].update(dict_tree( (('SE',),('LMS','HMS','HG','RG','CHB','AGB','He','WD','NS','BH','PMS'),\n",
    "                                         lpars,ffrac), data[isnoff:isloff].astype('f') ))\n",
    "        \n",
    "        return dtemp"
   ]
  },
  {
   "cell_type": "code",
   "execution_count": null,
   "metadata": {
    "collapsed": false
   },
   "outputs": [],
   "source": [
    "def dict_tree_show(data):\n",
    "    def dict_tree_show_loop(data,n):\n",
    "        if (type(data)!=collections.OrderedDict):\n",
    "                if (type(data)==np.ndarray): print '    '*(n+1),type(data), data.shape, data.dtype\n",
    "                else: print type(data)\n",
    "        else:\n",
    "            n += 1\n",
    "            for i in data.keys():\n",
    "                print '    '*n,'--',i\n",
    "                dict_tree_show_loop(data[i],n)\n",
    "    dict_tree_show_loop(data,-1)"
   ]
  },
  {
   "cell_type": "markdown",
   "metadata": {
    "collapsed": false
   },
   "source": [
    "## Load data"
   ]
  },
  {
   "cell_type": "code",
   "execution_count": null,
   "metadata": {
    "collapsed": false
   },
   "outputs": [],
   "source": [
    "data=status(filepath,fse)"
   ]
  },
  {
   "cell_type": "code",
   "execution_count": null,
   "metadata": {
    "collapsed": false,
    "scrolled": true
   },
   "outputs": [],
   "source": [
    "dict_tree_show(data)"
   ]
  },
  {
   "cell_type": "markdown",
   "metadata": {},
   "source": [
    "## Plot"
   ]
  },
  {
   "cell_type": "markdown",
   "metadata": {},
   "source": [
    "## color"
   ]
  },
  {
   "cell_type": "code",
   "execution_count": null,
   "metadata": {
    "collapsed": true
   },
   "outputs": [],
   "source": [
    "##        Black      Blue       Cyan      Green      Lime       Olive      Red       Maroon      Magenta    Purple    \n",
    "colors=('#000000', '#0000FF', '#00FFFF', '#008000', '#00FF00', '#808000', '#FF0000', '#800000', '#FF00FF', '#800080' ,\n",
    "        '#0000A0', '#ADD8E6', '#FFFF00', '#FFA500', '#A52A2A', '#808080', '#C0C0C0')\n",
    "##        darkblue  lightblue   yellow    orange      brown      grey      silver\n",
    "markers=(\"o\", \"v\", \"^\", \"<\", \">\", \"1\", \"2\", \"3\", \"4\", \"*\", \"s\")\n",
    "linetypes=('-','--','-.',':')"
   ]
  },
  {
   "cell_type": "markdown",
   "metadata": {},
   "source": [
    "### Timescales"
   ]
  },
  {
   "cell_type": "code",
   "execution_count": null,
   "metadata": {
    "collapsed": false
   },
   "outputs": [],
   "source": [
    "fig= plt.figure(figsize=(8,6))\n",
    "\n",
    "x = data['t']['Myr']\n",
    "# Tcross\n",
    "plt.plot(x,data['tcr'],'-',color=colors[0],label='Crossing time')\n",
    "# Trh peaks due to the shock of Ekin from kicked stars\n",
    "plt.plot(x,data['trh'],'-',color=colors[1],label='Half-mass relaxation time')\n",
    "plt.xlabel('T [Myr]')\n",
    "plt.ylabel('Timescale [Myr]')\n",
    "plt.legend(loc='upper left')\n",
    "print data['trh'][10]/(data['t']['Myr'][1]/data['t']['NB'][1])\n"
   ]
  },
  {
   "cell_type": "markdown",
   "metadata": {},
   "source": [
    "### Radius"
   ]
  },
  {
   "cell_type": "code",
   "execution_count": null,
   "metadata": {
    "collapsed": false
   },
   "outputs": [],
   "source": [
    "fig, axes = plt.subplots(nrows=1, ncols=2,sharex=True)\n",
    "\n",
    "#size of image\n",
    "figcf = plt.gcf()\n",
    "figcf.set_size_inches(16,8)\n",
    "#plt.subplots_adjust(hspace=0)\n",
    "\n",
    "x = data['t']['Myr']\n",
    "# Half-mass radius\n",
    "axes[0].plot(x,data['rh'],'-',color=colors[0],label='Half-mass radius')\n",
    "# Tidal radius\n",
    "axes[0].plot(x,data['rt'],'-',color=colors[1],label='Tidal radius')\n",
    "axes[0].set_xlabel('T [Myr]')\n",
    "axes[0].set_ylabel('R [pc]')\n",
    "axes[0].legend(loc='upper left')\n",
    "\n",
    "# density center\n",
    "keys=data['rden'].keys()\n",
    "for i in range(len(keys)):\n",
    "    axes[1].plot(x,data['rden'][keys[i]],'-',color=colors[i],label='Density Center '+keys[i])\n",
    "axes[1].set_xlabel('T [Myr]')\n",
    "axes[1].set_ylabel('R [pc]')\n",
    "axes[1].legend(loc='upper left')"
   ]
  },
  {
   "cell_type": "markdown",
   "metadata": {},
   "source": [
    "### Density"
   ]
  },
  {
   "cell_type": "code",
   "execution_count": null,
   "metadata": {
    "collapsed": false
   },
   "outputs": [],
   "source": [
    "fig= plt.figure(figsize=(8,6))\n",
    "\n",
    "x = data['t']['Myr']\n",
    "# Density weighted average density ΣRHO2/ΣRHO \n",
    "plt.plot(x,data['rhod'],'-',color=colors[0],label=r'Density weighted average density $\\sum \\rho^2 /\\sum \\rho $')\n",
    "# Maximum mass density / half mass mean value\n",
    "plt.plot(x,data['rhom'],'-',color=colors[1],label='Maximum mass density / half mass mean value')\n",
    "plt.xlabel('T [Myr]')\n",
    "plt.ylabel(r'$\\rho$ [$M_{\\odot}/pc^3$]')\n",
    "plt.legend(loc='upper right',frameon=False)\n"
   ]
  },
  {
   "cell_type": "markdown",
   "metadata": {},
   "source": [
    "### Maximum stellar mass"
   ]
  },
  {
   "cell_type": "code",
   "execution_count": null,
   "metadata": {
    "collapsed": false
   },
   "outputs": [],
   "source": [
    "fig= plt.figure(figsize=(8,6))\n",
    "\n",
    "x = data['t']['Myr']\n",
    "# Density weighted average density ΣRHO2/ΣRHO \n",
    "plt.plot(x,data['mmax'],'-',color=colors[0],label='Maximum stellar mass')\n",
    "plt.xlabel('T [Myr]')\n",
    "plt.ylabel(r'mass [$M_{\\odot}/pc^3$]')\n",
    "#plt.ylabel('mass')\n",
    "plt.legend(loc='upper right',frameon=False)\n"
   ]
  },
  {
   "cell_type": "markdown",
   "metadata": {},
   "source": [
    "### Mass & N\n",
    "\n",
    "T/S/B\n",
    "NEW\n",
    "Current"
   ]
  },
  {
   "cell_type": "code",
   "execution_count": null,
   "metadata": {
    "collapsed": false,
    "scrolled": false
   },
   "outputs": [],
   "source": [
    "fig, axes = plt.subplots(nrows=3, ncols=2,sharex=True)\n",
    "\n",
    "#size of image\n",
    "figcf = plt.gcf()\n",
    "figcf.set_size_inches(16,16)\n",
    "#plt.subplots_adjust(hspace=0)\n",
    "\n",
    "groups=('mass','n')\n",
    "l0 = ('T','S','B')\n",
    "\n",
    "x = data['t']['Myr']\n",
    "\n",
    "for k in range(len(groups)):\n",
    "    gkey = groups[k]\n",
    "    axes[0][k].set_ylabel(gkey)\n",
    "    axes[0][k].set_title('Total '+groups[k])\n",
    "    nd = data[gkey]\n",
    "    for i in range(len(l0)):\n",
    "        key = l0[i]\n",
    "        axes[0][k].plot(x,nd[key],'-',color=colors[i],label=key)\n",
    "    axes[0][k].legend(loc='center right',frameon=False)\n",
    "    \n",
    "    axes[1][k].set_title('Cumulative '+groups[k]+' new stellar types')\n",
    "    axes[1][k].set_ylabel(gkey)\n",
    "    nd = data[gkey]['SE']['New']\n",
    "    for i in range(len(nd.keys())):\n",
    "        key = nd.keys()[i]\n",
    "        axes[1][k].plot(x,nd[key],'-',color=colors[i],label=key)\n",
    "    axes[1][k].legend(loc='center left',frameon=False)\n",
    "    \n",
    "    patchs=[]\n",
    "    axes[2][k].set_title('Current '+groups[k]+' of different stellar types')\n",
    "    axes[2][k].set_ylabel(gkey)\n",
    "    axes[2][k].set_xlabel('T[Myr]')\n",
    "    nd = data[gkey]['SE']['Current']\n",
    "    for i in range(len(nd.keys())):\n",
    "        key = nd.keys()[i]\n",
    "        nn = 0\n",
    "        for n in nd[key].keys():\n",
    "            axes[2][k].plot(x,nd[key][n],linetypes[nn],color=colors[i])\n",
    "            if (nn==0): \n",
    "                patch = mlines.Line2D([],[],linestyle=linetypes[nn],color=colors[i],label=key)\n",
    "                patchs.append(patch)\n",
    "            nn += 1\n",
    "    axes[2][k].legend(handles=patchs,ncol=2,loc='center left',frameon=False)"
   ]
  },
  {
   "cell_type": "markdown",
   "metadata": {},
   "source": [
    "### Virial ratio"
   ]
  },
  {
   "cell_type": "code",
   "execution_count": null,
   "metadata": {
    "collapsed": false
   },
   "outputs": [],
   "source": [
    "fig = plt.figure(figsize=(10,6))\n",
    "\n",
    "plt.ylim(0,1)\n",
    "plt.xlabel('T[Myr]')\n",
    "plt.ylabel('Virial ratio')\n",
    "plt.plot(data['t']['Myr'],data['q'],'-')"
   ]
  },
  {
   "cell_type": "markdown",
   "metadata": {},
   "source": [
    "### Energy"
   ]
  },
  {
   "cell_type": "code",
   "execution_count": null,
   "metadata": {
    "collapsed": false
   },
   "outputs": [],
   "source": [
    "fig, axes = plt.subplots(nrows=1, ncols=2,sharex=True)\n",
    "\n",
    "#size of image\n",
    "figcf = plt.gcf()\n",
    "figcf.set_size_inches(16,6)\n",
    "\n",
    "print '1. Etot: total energy without escaping energy'\n",
    "print '2. Ekin: kinetic energy'\n",
    "print '3. Epot: Potential energy'\n",
    "print '4. Ebin: Binary binding energy'\n",
    "print '5. Etid: Tidal energy'\n",
    "print '6. Em: mass loss energy'\n",
    "print '7. Ecol: collision energy'\n",
    "print '8. Ece: common envelope energy'\n",
    "print '9. Ekick: kick energy'\n",
    "print '10. Eesc: escaper kinetic and potential energy'\n",
    "print '11. Ebesc: binary escaper binding energy'\n",
    "print '12. Emesc: triple escaper binding energy'\n",
    "\n",
    "axes[0].set_xlabel('T[Myr]')\n",
    "axes[0].set_ylabel('Energy')\n",
    "axes[0].set_ylim(-1,1)\n",
    "axes[0].plot(data['t']['Myr'],data['energy']['Etot']+data['energy']['Eesc']+data['energy']['Ebesc']+data['energy']['Emesc'],'-',color=colors[12],linewidth=4,label='E')\n",
    "for i in range(8):\n",
    "    key = data['energy'].keys()[i]\n",
    "    axes[0].plot(data['t']['Myr'],data['energy'][key],'-',color=colors[i],label=key)\n",
    "axes[0].legend(mode='expand',bbox_to_anchor=(0, 1.05, 1.0, .102),ncol=4, frameon=False)\n",
    "\n",
    "axes[1].set_xlabel('T[Myr]')\n",
    "axes[1].set_ylabel('Energy')\n",
    "for i in range(8,12):\n",
    "    key = data['energy'].keys()[i]\n",
    "    axes[1].plot(data['t']['Myr'],data['energy'][key],'-',color=colors[i],label=key)\n",
    "axes[1].legend(mode='expand',bbox_to_anchor=(0, 1.05, 1.0, .102),ncol=4, frameon=False)\n"
   ]
  },
  {
   "cell_type": "markdown",
   "metadata": {
    "collapsed": true
   },
   "source": [
    "### Events count"
   ]
  },
  {
   "cell_type": "code",
   "execution_count": null,
   "metadata": {
    "collapsed": false
   },
   "outputs": [],
   "source": [
    "fig = plt.figure(figsize=(10,6))\n",
    "\n",
    "plt.xlabel('T[Myr]')\n",
    "plt.ylabel('Events')\n",
    "plt.ylim(0,50)\n",
    "gdat = data['n']['SE']['Events']\n",
    "k=0\n",
    "for i in gdat.keys():\n",
    "    plt.plot(data['t']['Myr'],gdat[i],'-',color=colors[k],label=i)\n",
    "    k += 1\n",
    "plt.legend(mode='expand',bbox_to_anchor=(0, 1.05, 1.0, .102),ncol=7, frameon=False)"
   ]
  },
  {
   "cell_type": "markdown",
   "metadata": {},
   "source": [
    "### Lagragian\n",
    "#### Y axis range"
   ]
  },
  {
   "cell_type": "code",
   "execution_count": null,
   "metadata": {
    "collapsed": true
   },
   "outputs": [],
   "source": [
    "yrange=dict()\n",
    "vmax=1\n",
    "smax=10\n",
    "# each pair: min, max, comment out if no range limit\n",
    "yrange['r']=[0,1]\n",
    "yrange['n']=[0,6000]\n",
    "yrange['m']=[0,20]\n",
    "yrange['v']=[0,1]\n",
    "yrange['vx']=[-vmax,vmax]\n",
    "yrange['vy']=[-vmax,vmax]\n",
    "yrange['vz']=[-vmax,vmax]\n",
    "yrange['vr']=[-vmax,vmax]\n",
    "yrange['vt']=[-vmax,vmax]\n",
    "yrange['vrot']=[-vmax,vmax]\n",
    "yrange['s']=[0,smax]\n",
    "yrange['sx']=[0,smax]\n",
    "yrange['sy']=[0,smax]\n",
    "yrange['sz']=[0,smax]\n",
    "yrange['sr']=[0,smax]\n",
    "yrange['st']=[0,smax]\n",
    "yrange['srot']=[0,smax]\n",
    "yrange['e']=[-1E-3,1E-3]"
   ]
  },
  {
   "cell_type": "code",
   "execution_count": null,
   "metadata": {
    "collapsed": false,
    "scrolled": false
   },
   "outputs": [],
   "source": [
    "fkeys=data['lagr']['T'].keys()\n",
    "gkeys=['T','S','B']\n",
    "skeys=[]\n",
    "if (fse): skeys=data['lagr']['SE'].keys()\n",
    "\n",
    "print fkeys\n",
    "for j in fkeys:\n",
    "    nrows = 1\n",
    "    if (fse): nrows = 5 \n",
    "    fig, axes = plt.subplots(nrows=nrows, ncols=3,sharex=True,sharey=True)\n",
    "    \n",
    "    #size of image\n",
    "    figcf = plt.gcf()\n",
    "    figcf.set_size_inches(16,20)\n",
    "    \n",
    "    if (fse): axes=axes.flatten()\n",
    "    \n",
    "    for i in range(3):\n",
    "        nd = data['lagr'][gkeys[i]][j]\n",
    "        for k in range(len(nd.keys())):\n",
    "            key = nd.keys()[k]\n",
    "            axes[i].plot(data['t']['Myr'],nd[key],'-',color=colors[k],label=key)\n",
    "        axes[i].set_title(gkeys[i])\n",
    "    \n",
    "    if (fse):\n",
    "        for i in range(len(skeys)):\n",
    "            nd = data['lagr']['SE'][skeys[i]][j]\n",
    "            for k in range(len(nd.keys())):\n",
    "                key = nd.keys()[k]\n",
    "                axes[i+3].plot(data['t']['Myr'],nd[key],'-',color=colors[k],label=key)\n",
    "            axes[i+3].set_title(skeys[i])\n",
    "    axes[nrows*3-2].set_xlabel('T[Myr]')\n",
    "    axes[nrows/2*3].set_ylabel(j)\n",
    "    \n",
    "    if j in yrange:\n",
    "        axes[0].set_ylim(yrange[j][0],yrange[j][1])\n",
    "    axes[1].legend(mode='expand',bbox_to_anchor=(-1, 1.1, 3.0, .102),ncol=9, frameon=False)\n",
    "            "
   ]
  },
  {
   "cell_type": "markdown",
   "metadata": {},
   "source": [
    "### Binary fractions"
   ]
  },
  {
   "cell_type": "code",
   "execution_count": null,
   "metadata": {
    "collapsed": false
   },
   "outputs": [],
   "source": [
    "fig, axes = plt.subplots(nrows=4, ncols=2,sharex=True)\n",
    "\n",
    "#size of image\n",
    "figcf = plt.gcf()\n",
    "figcf.set_size_inches(16,20)\n",
    "\n",
    "print '*     n: Total number of binaries (resolved) inside different global R_lagr'\n",
    "print '*     m: Total mass of binaries (resolved) inside different global R_lagr'\n",
    "print '*     Ebin:   Binary binding energy inside global R_lagr'\n",
    "print '*     Ebinb:  Binary binding energy inside binary R_lagr'\n",
    "\n",
    "keys=data['pbinary'].keys()\n",
    "bkeys=['binary','pbinary']\n",
    "fkeys=data['pbinary']['m'].keys()\n",
    "for i in range(len(keys)):\n",
    "    for k in range(2):\n",
    "        for j in range(len(fkeys)):\n",
    "            if fkeys[j] in data[bkeys[k]][keys[i]]:\n",
    "                axes[i][k].plot(data['t']['Myr'],data[bkeys[k]][keys[i]][fkeys[j]],'-',color=colors[j],label=fkeys[j])\n",
    "    axes[i][0].set_ylabel(keys[i])\n",
    "axes[0][0].set_title('Binary')\n",
    "axes[0][1].set_title('Pri-Binary')\n",
    "for i in range(2): axes[3][i].set_xlabel('T [Myr]')\n",
    "axes[0][1].legend(mode='expand',bbox_to_anchor=(-1.2, 1.1, 2.0, .102),ncol=9, frameon=False)\n",
    "\n",
    "fig, axes = plt.subplots(nrows=2, ncols=2,sharex=True)\n",
    "\n",
    "#size of image\n",
    "figcf = plt.gcf()\n",
    "figcf.set_size_inches(16,10)\n",
    "\n",
    "print '*     binary fraction: binary mass/number vs. total mass/number within different Lagragian radii'\n",
    "for k in range(len(bkeys)):\n",
    "    for j in range(len(fkeys)):\n",
    "        if (fkeys[j] in data[bkeys[k]][keys[i]]):\n",
    "            if (fkeys[j] in data['lagr']['T']['n']):\n",
    "                axes[1][k].plot(data['t']['Myr'],data[bkeys[k]]['n'][fkeys[j]]/data['lagr']['T']['n'][fkeys[j]]/2,'-',color=colors[j],label=fkeys[j])\n",
    "                if (fkeys[j] in data['lagr']['T']['m']):\n",
    "                    axes[0][k].plot(data['t']['Myr'],data[bkeys[k]]['m'][fkeys[j]]/data['lagr']['T']['m'][fkeys[j]]/data['lagr']['T']['n'][fkeys[j]],'-',color=colors[j],label=fkeys[j])\n",
    "axes[0][0].set_ylabel('m')\n",
    "axes[1][0].set_ylabel('n')\n",
    "axes[0][0].set_title('Binary fraction')\n",
    "axes[0][1].set_title('Pri-Binary fraction')\n",
    "for i in range(2): axes[1][i].set_xlabel('T [Myr]')\n",
    "axes[0][1].legend(mode='expand',bbox_to_anchor=(-1.2, 1.1, 2.0, .102),ncol=9, frameon=False)\n"
   ]
  },
  {
   "cell_type": "markdown",
   "metadata": {},
   "source": [
    "### Angular momentum (binary unresolved)"
   ]
  },
  {
   "cell_type": "code",
   "execution_count": null,
   "metadata": {
    "collapsed": false
   },
   "outputs": [],
   "source": [
    "fig, axes = plt.subplots(nrows=1, ncols=3,sharex=True)\n",
    "\n",
    "#size of image\n",
    "figcf = plt.gcf()\n",
    "figcf.set_size_inches(16,4)\n",
    "\n",
    "keys=data['A'].keys()\n",
    "fkeys=data['A']['x'].keys()\n",
    "for i in range(len(keys)):\n",
    "    for j in range(len(fkeys)):\n",
    "        if fkeys[j] in data['A'][keys[i]]:\n",
    "            axes[i].plot(data['t']['Myr'],data['A'][keys[i]][fkeys[j]],'-',color=colors[j],label=fkeys[j])\n",
    "    axes[i].set_title(keys[i])\n",
    "axes[0].set_ylabel('Angular momentum')\n",
    "for i in range(3): axes[i].set_xlabel('T [Myr]')\n",
    "axes[0].legend(mode='expand',bbox_to_anchor=(0, 1.1, 3.0, .102),ncol=9, frameon=False)"
   ]
  },
  {
   "cell_type": "markdown",
   "metadata": {},
   "source": [
    "## Unused"
   ]
  },
  {
   "cell_type": "code",
   "execution_count": null,
   "metadata": {
    "collapsed": true
   },
   "outputs": [],
   "source": [
    "#class col_base:\n",
    "#    def __init__(self,data,names,form):\n",
    "#        self.data=np.array(zip(*data),dtype={'names':names,'formats':(form,)*len(names)})\n",
    "#    def __getitem__(self,index):\n",
    "#        return self.data[index]\n",
    "    \n",
    "class col_base:\n",
    "    def __init__(self,data,names,form):\n",
    "        self.names=names\n",
    "        self.data=np.transpose(data).astype(dtype=form)\n",
    "    def __getitem__(self,index):\n",
    "        if (type(index) is str):\n",
    "            return self.data[self.names.index(index)]\n",
    "        elif (type(index) is int):\n",
    "            return self.data[index]\n",
    "        else: \n",
    "            raise Exception(\"Index must be a name or a integer.\")\n",
    "    \n",
    "class lagr_base:\n",
    "    def __init__ (self,data,form):\n",
    "        self.labels=('0.1%','1%','10%','30%','50%','70%','90%','100%','Rc')\n",
    "        self.ncols=len(self.labels)\n",
    "        self.data=col_base(self,data,self.labels,form)\n",
    "    def __getitem__(self,index):\n",
    "        return self.data[index]\n",
    "        \n",
    "class lagr_v_group:\n",
    "    def __init__(self,data,form):\n",
    "        ncols=9\n",
    "        self.v  = lagr_base(data[:,0:ncols],form)\n",
    "        self.vx = lagr_base(data[:,ncols:2*ncols],form)\n",
    "        self.vy = lagr_base(data[:,2*ncols:3*ncols],form)\n",
    "        self.vz = lagr_base(data[:,3*ncols:4*ncols],form)\n",
    "        self.vr = lagr_base(data[:,4*ncols:5*ncols],form)\n",
    "        self.vt = lagr_base(data[:,5*ncols:6*ncols],form)\n",
    "        self.vrot = lagr_base(data[:,6*ncols:7*ncols],form)\n",
    "        self.labels=self.v.labels\n",
    "    def __getitem__(self.index):\n",
    "        if   (index=='v' ) | (index==0): return self.v\n",
    "        elif (index=='vx') | (index)\n",
    "\n",
    "class lagr_group:\n",
    "    def __init__(self,data):\n",
    "        ncols=9\n",
    "        self.r = lagr_base(data[:,0:ncols],'f')\n",
    "        self.n = lagr_base(data[:,ncols:2*ncols],'i')\n",
    "        self.m = lagr_base(data[:,2*ncols:3*ncols].'f')\n",
    "        self.vel = lagr_v_group(data[:,3*ncols:10*ncols],'f')\n",
    "        self.sig = lagr_v_group(data[:,10*ncols,17*ncols],'f')\n",
    "        self.e = lagr_base(data[:,17*ncols:18*ncols].'f')\n",
    "\n",
    "class lagr_block:\n",
    "    def __init__(self,data):\n",
    "        ncols=162\n",
    "        self.t = lagr_group(data[:,0:ncols])\n",
    "        self.s = lagr_group(data[:,ncols:2*ncols])\n",
    "        self.b = lagr_group(data[:,2*ncols:3*ncols])\n",
    "\n",
    "class lagr_se_block:\n",
    "    def __init__(self,data):\n",
    "        ncols=162\n",
    "        self.lms = lagr_group(data[:,0:ncols])                 # Low mass main sequence (M < 0.7) (0) \n",
    "        self.hms = lagr_group(data[:,ncols:2*ncols])           # High mass main sequence  (1)\n",
    "        self.hg  = lagr_group(data[:,2*ncols:3*ncols])         # Hertzsprung gap (HG). (2)\n",
    "        self.rg  = lagr_group(data[:,3*ncols:4*ncols])         # Red giant. (3)\n",
    "        self.hb  = lagr_group(data[:,4*ncols:5*ncols])         # Core Helium burning. (HB) (4)\n",
    "        self.agb = lagr_group(data[:,5*ncols:6*ncols])         # AGB (5-6)\n",
    "        self.he  = lagr_group(data[:,6*ncols:7*ncols])         # Helium types (7-9)\n",
    "        self.wd  = lagr_group(data[:,7*ncols:8*ncols])         # White dwarf (10-12)\n",
    "        self.ns  = lagr_group(data[:,8*ncols:9*ncols])         # Neutron star (13)\n",
    "        self.bh  = lagr_group(data[:,9*ncols:10*ncols])        # Black hole (14)\n",
    "        self.pms  = lagr_group(data[:,10*ncols:11*ncols])      # Pre main sequence (-1)\n",
    "\n",
    "        \n",
    "class status:\n",
    "    def __init__ (self,path):\n",
    "        data=np.loadtxt(path)\n",
    "        ifoff = 16\n",
    "        self.t = col_base(data[:,0:2],('NB','Myr'),'f')  # Time in NB unit and Myr\n",
    "        self.tcr = np.array(data[:,2],dtype='f')         # crossing time in Myr\n",
    "        self.trh = np.array(data[:,3],dtype='f')         # half-mass relaxation time in Myr\n",
    "        self.mass = col_base(data[:,4:7],('T','S','B'),'f')    # total, single, binary mass in M_sun\n",
    "        self.q = np.array(data[:,7],dtype='f')           # Virial ration\n",
    "        self.rh = np.array(data[:,8],dtype='f')          # half-mass radius in pc\n",
    "        self.rt = np.array(data[:,9],dtype='f')          # tidal radius in pc\n",
    "        self.rden = col_base(data[:,10:13],('x','y','z'),'f') # Density center position\n",
    "        self.rhod = np.array(data[:,13],'f')             # Density weighted average density ΣRHO2/ΣRHO \n",
    "        self.rhom = np.array(data[:,14],'f')             # Maximum mass density / half mass mean value\n",
    "        self.mmax = np.array(data[;,15],'f')             # Maxium stellar mass\n",
    "        ieoff = 12 + ifoff\n",
    "        self.energy = col_base(data[:,ifoff:ieoff],\n",
    "                               ('Etot','Ekin','Epot','Ebin','Etid','Em','Ecol','Ece','Ekick','Eesc','Ebesc','Emesc'),\n",
    "                              'f')                       # Energy parameters\n",
    "        inoff = 5 + ieoff\n",
    "        self.n = col_base(data[:,ifoff:inoff],('T','S','B','M','Tu'),'i')  \n",
    "        # Number of stars Total(resolved),Single,Binary,Triple,Total(unresolved)\n",
    "        \n",
    "    def __init__(self,data):\n",
    "        self.labels=\n",
    "        self.ncols=len(self.labels)\n",
    "        self.data=col_base(self,data,self.labels,'f')\n",
    "    def __getitem__(self,index):\n",
    "        return self.data[index]\n",
    "        "
   ]
  }
 ],
 "metadata": {
  "kernelspec": {
   "display_name": "Python 2",
   "language": "python",
   "name": "python2"
  },
  "language_info": {
   "codemirror_mode": {
    "name": "ipython",
    "version": 2
   },
   "file_extension": ".py",
   "mimetype": "text/x-python",
   "name": "python",
   "nbconvert_exporter": "python",
   "pygments_lexer": "ipython2",
   "version": "2.7.5"
  }
 },
 "nbformat": 4,
 "nbformat_minor": 0
}
